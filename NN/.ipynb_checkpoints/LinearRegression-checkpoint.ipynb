{
 "cells": [
  {
   "cell_type": "markdown",
   "metadata": {},
   "source": [
    "# Linear Regression Example\n",
    "\n",
    "This is an example of a simple linear regression problem: using a gradient descent optimisation algorithm to fit for the gradient and intercept of the function $y=mx+c$.\n",
    "\n",
    "This example allows us to explore a few of the hyperparameters and how they affect the convergence of the optimisation algorithm.  The parameters we can tweak are the learning_rate and training_epochs.  \n",
    "* If the learning_rate is too large then there can be issues with convergence; the gradient descent algorithm can diverge.\n",
    "* If the learning_rate is suitable, but training_epochs is set to too small a number, then the optimisation will not be able to converge.  Similarly if training_epochs is set to too large a number then the algorithm will have converged long before the specified number of epochs has been reached. This second issue is usually addressed by inserting convergence criteria in an optimisation loop.\n",
    "For a suitable learning_rate, the number of steps required to reach convergence will depend on how far away from the true model parameters the starting parameters (our intial guess) are.  You can explore this issue by changing the gradient and intercept, noting that the script generates initial values that are bounded by $[0, 1]$.\n",
    "\n",
    "We start the training in the nominal version with the following parameters:\n",
    "* learning_rate = 0.005\n",
    "* training_epochs = 100\n",
    "* gradient = 1.0\n",
    "* intercept = 0.0\n",
    "* noise     = 0.1"
   ]
  },
  {
   "cell_type": "code",
   "execution_count": 1,
   "metadata": {},
   "outputs": [
    {
     "ename": "ModuleNotFoundError",
     "evalue": "No module named 'tensorflow'",
     "output_type": "error",
     "traceback": [
      "\u001b[0;31m---------------------------------------------------------------------------\u001b[0m",
      "\u001b[0;31mModuleNotFoundError\u001b[0m                       Traceback (most recent call last)",
      "\u001b[0;32m<ipython-input-1-f20307833d84>\u001b[0m in \u001b[0;36m<module>\u001b[0;34m\u001b[0m\n\u001b[1;32m      4\u001b[0m \u001b[0;34m\u001b[0m\u001b[0m\n\u001b[1;32m      5\u001b[0m \u001b[0;32mimport\u001b[0m \u001b[0mnumpy\u001b[0m \u001b[0;32mas\u001b[0m \u001b[0mnp\u001b[0m\u001b[0;34m\u001b[0m\u001b[0;34m\u001b[0m\u001b[0m\n\u001b[0;32m----> 6\u001b[0;31m \u001b[0;32mimport\u001b[0m \u001b[0mtensorflow\u001b[0m \u001b[0;32mas\u001b[0m \u001b[0mtf\u001b[0m\u001b[0;34m\u001b[0m\u001b[0;34m\u001b[0m\u001b[0m\n\u001b[0m\u001b[1;32m      7\u001b[0m \u001b[0;32mimport\u001b[0m \u001b[0mmatplotlib\u001b[0m\u001b[0;34m.\u001b[0m\u001b[0mpyplot\u001b[0m \u001b[0;32mas\u001b[0m \u001b[0mplt\u001b[0m\u001b[0;34m\u001b[0m\u001b[0;34m\u001b[0m\u001b[0m\n\u001b[1;32m      8\u001b[0m \u001b[0;34m\u001b[0m\u001b[0m\n",
      "\u001b[0;31mModuleNotFoundError\u001b[0m: No module named 'tensorflow'"
     ]
    }
   ],
   "source": [
    "from __future__ import absolute_import\n",
    "from __future__ import division\n",
    "from __future__ import print_function\n",
    "\n",
    "import numpy as np\n",
    "import tensorflow as tf\n",
    "import matplotlib.pyplot as plt\n",
    "\n",
    "# Network training parameters\n",
    "learning_rate    = 0.005\n",
    "training_epochs  = 100\n",
    "min_x = 0\n",
    "max_x = 1\n",
    "Ngen  = 100\n",
    "gradient  = 1.0\n",
    "intercept = 0.0\n",
    "noise     = 0.1  # data are inherently noisy, so we generate noise\n",
    "\n",
    "print(\"--------------------------------------------\")\n",
    "print(\"Number of examples to generate = \", Ngen)\n",
    "print(\"Learning rate            alpha = \", learning_rate)\n",
    "print(\"Number of training epochs      = \", training_epochs)\n",
    "print(\"--------------------------------------------\")"
   ]
  },
  {
   "cell_type": "markdown",
   "metadata": {},
   "source": [
    "TensorFlow models can be broken into two parts, the first part allows the user to construct a graph.  This is the logical structure of the algorithm that will be excecuted to learn the model parameters. The second part is excecution of the graph. This is an iterative process and as will be seen below, the parameter update is essentially hidden behind the evaluation of hte variable train_step.  Here we define the graph that needs to be excecuted."
   ]
  },
  {
   "cell_type": "code",
   "execution_count": 66,
   "metadata": {},
   "outputs": [],
   "source": [
    "# tf Graph input:\n",
    "#  x: is the tensor for the input data (the placeholder entry None is used for that;\n",
    "#     and the number of features input (n_input = 1).\n",
    "#\n",
    "#\n",
    "#  y: is the tensor input data computed from the generated data x values\n",
    "#\n",
    "#  yhat: is the tensor for the output value of the function that is being approximated by\n",
    "#     the the model, calculated from yhat = m*x + c\n",
    "#\n",
    "x = tf.placeholder(tf.float32, [None, 1], name=\"x\")\n",
    "y = tf.placeholder(tf.float32, [None, 1], name=\"y\")\n",
    "\n",
    "# parameters of the model are m (gradient) and c (constant offset)\n",
    "#   - pick random starting values for fit convergence\n",
    "c = tf.Variable(tf.random_uniform([1]), name=\"c\")\n",
    "m = tf.Variable(tf.random_uniform([1]), name=\"m\")\n",
    "yhat = m * x + c\n",
    "\n",
    "# Use the L2 norm loss function for minimsation. This is equivalent to minimising a chi2 \n",
    "# all of the data points have equal uncertainty, and hence the optimal solution for the\n",
    "# parameters is independent of the uncertainty.\n",
    "loss = tf.reduce_sum((y-yhat) * (y-yhat))\n",
    "\n",
    "# use a gradient descent optimiser to miniise the loss; here we specify the learning_rate step\n",
    "# size for the minimisation\n",
    "train_step = tf.train.GradientDescentOptimizer(learning_rate).minimize(loss)"
   ]
  },
  {
   "cell_type": "markdown",
   "metadata": {},
   "source": [
    "With the graph set up above, we now need to (i) prepare the training data, and (ii) start a TensorFlow session, and use this to initialise the variables m and c so that we can start the optimisation process.  \n",
    "\n",
    "The data sample is simply a uniformly generated set of data in the range $[min_x, max_x]=[0, 1]$ for x, and y is evaluated as y=mx+c, with a random noise term added to simulate noise that would be inherent in any data set.\n",
    "\n",
    "There are several ways to evaluate tensors in TensorFlow.  Here a session is used to evaluate tf objects. You may wish to explore the website for the other alternatives."
   ]
  },
  {
   "cell_type": "code",
   "execution_count": 67,
   "metadata": {},
   "outputs": [],
   "source": [
    "# prepare data - data_x and data_y are np arrays that will get fed into the optimisation\n",
    "# set the seed for random number generation to ensure we always get the same data\n",
    "np.random.seed(0)\n",
    "data_x = (max_x-min_x)*np.random.random([Ngen, 1])+min_x\n",
    "data_y = np.zeros([Ngen,1])\n",
    "for i in range(Ngen):\n",
    "    data_y[i] = gradient*data_x[i]+intercept + noise*np.random.randn()\n",
    "\n",
    "\n",
    "# prepare the session for evaluation and initialise the variables.\n",
    "sess = tf.Session()\n",
    "init = tf.global_variables_initializer()\n",
    "sess.run(init)"
   ]
  },
  {
   "cell_type": "markdown",
   "metadata": {},
   "source": [
    "The rest of this notebook consists of graph evaluation, and output of the results.  The loop over training_epochs results in train_set being evaluated the specified number of times.  As the train_set variable is the gradient descent optimiser, each evaluation results in one iteration of the optimisation being performed.  For each iteration the whole data sample is fed into the calculation. This is not optimal for large data sets and you may wish to explore large samples and extend the notebook to do batch learning (see the accompanying notes on neural networks for details of batch learning).\n",
    "\n",
    "The loss is evaluated at each training step, again using the full amount of training data, so that we can plot the evolution of loss against training epoch.  \n",
    "\n",
    "The rest of the code prints out the values of m and c obtained, displays how the fitted model agrees with the data, and the evolution of loss vs epoch."
   ]
  },
  {
   "cell_type": "code",
   "execution_count": 68,
   "metadata": {},
   "outputs": [
    {
     "name": "stdout",
     "output_type": "stream",
     "text": [
      "Epoch   m         c\n",
      "Optimisation process has finished.  The optimal values of parameters are:\n",
      "  m =  [0.9676474]  [input value =  1.0 ]\n",
      "  c =  [0.11149117]  [input value =  0.0 ]\n",
      "  loss function for the optimal parameters =  24.810972\n"
     ]
    },
    {
     "data": {
      "image/png": "[encoded data removed]",
      "text/plain": [
       "<Figure size 432x288 with 1 Axes>"
      ]
     },
     "metadata": {
      "needs_background": "light"
     },
     "output_type": "display_data"
    },
    {
     "data": {
      "image/png": "[encoded data removed]",
      "text/plain": [
       "<Figure size 432x288 with 1 Axes>"
      ]
     },
     "metadata": {
      "needs_background": "light"
     },
     "output_type": "display_data"
    }
   ],
   "source": [
    "# epoch and chi2 are the training step and the chi2 sum (neglecting the error normalisation)\n",
    "# for the problem.  These will be logged to inspect the fit convergence obtained.\n",
    "epoch      = []\n",
    "loss_vals  = []\n",
    "print(\"Epoch   m         c\")\n",
    "for step in range(training_epochs):\n",
    "    # run the minimiser\n",
    "    sess.run(train_step, feed_dict={x: data_x, y: data_y})\n",
    "\n",
    "    # log the data and print output\n",
    "    epoch.append(step)\n",
    "    loss_vals.append(sess.run(loss, feed_dict={x: data_x, y: data_y}))\n",
    "    # uncomment this line for verbose printout\n",
    "    #print(step, sess.run(m), sess.run(c), chi2[step])\n",
    "\n",
    "\n",
    "# print optimisation results\n",
    "print(\"Optimisation process has finished.  The optimal values of parameters are:\")\n",
    "print(\"  m = \", sess.run(m), \" [input value = \", gradient, \"]\" )\n",
    "print(\"  c = \", sess.run(c), \" [input value = \", intercept, \"]\" )\n",
    "print(\"  loss function for the optimal parameters = \", loss_vals[training_epochs-1])\n",
    "\n",
    "plt.plot(data_x, data_y, 'r.')\n",
    "plt.plot([min_x, max_x], [sess.run(c), sess.run(m)*max_x+sess.run(c)], 'b-')\n",
    "plt.ylabel('f(x)')\n",
    "plt.xlabel('x')\n",
    "plt.title('Linear Regression Example')\n",
    "plt.show()\n",
    "\n",
    "plt.semilogy(epoch, loss_vals)\n",
    "plt.grid(True)\n",
    "plt.ylabel('L2 loss')\n",
    "plt.xlabel('Training epoch')\n",
    "plt.title('Linear Regression Example')\n",
    "plt.show()"
   ]
  },
  {
   "cell_type": "markdown",
   "metadata": {},
   "source": [
    "Some suggestions of things to explore with this example:\n",
    "* change the learning rate to some other value; both smaller (down to 0.0001) and larger (to 0.02) to see how the convergence properties change;\n",
    "* change the gradient used to see how the convergence properties change; try numbers in the range of 0.1 through 100;\n",
    "* try changing the value of the intercept m to see what happens to the optimisation;\n",
    "* try changing the value of the noise term to see what happens."
   ]
  },
  {
   "cell_type": "code",
   "execution_count": null,
   "metadata": {},
   "outputs": [],
   "source": []
  }
 ],
 "metadata": {
  "kernelspec": {
   "display_name": "Python 3",
   "language": "python",
   "name": "python3"
  },
  "language_info": {
   "codemirror_mode": {
    "name": "ipython",
    "version": 3
   },
   "file_extension": ".py",
   "mimetype": "text/x-python",
   "name": "python",
   "nbconvert_exporter": "python",
   "pygments_lexer": "ipython3",
   "version": "3.7.3"
  }
 },
 "nbformat": 4,
 "nbformat_minor": 4
}
